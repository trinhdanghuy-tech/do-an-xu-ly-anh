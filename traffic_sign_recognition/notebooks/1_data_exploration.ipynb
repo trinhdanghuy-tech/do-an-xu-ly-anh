{
 "cells": [
  {
   "cell_type": "code",
   "execution_count": null,
   "id": "3dfcb553",
   "metadata": {},
   "outputs": [],
   "source": [
    "# -*- coding: utf-8 -*-\n",
    "# ---\n",
    "# jupyter:\n",
    "#   jupytext:\n",
    "#     text_representation:\n",
    "#       extension: .py\n",
    "#       format_name: light\n",
    "#       format_version: '1.5'\n",
    "#       jupytext_version: 1.14.0\n",
    "#   kernelspec:\n",
    "#     display_name: Python 3 (ipykernel)\n",
    "#     language: python\n",
    "#     name: python3\n",
    "# ---\n",
    "\n",
    "# # 1. Khám phá Dữ liệu Ảnh\n",
    "\n",
    "# Mục tiêu: Tải, hiển thị và xem thông tin cơ bản của ảnh mẫu.\n",
    "\n",
    "# ## Import thư viện\n",
    "import os\n",
    "import sys\n",
    "import cv2\n",
    "import matplotlib.pyplot as plt"
   ]
  },
  {
   "cell_type": "code",
   "execution_count": null,
   "id": "bab9aaf6",
   "metadata": {},
   "outputs": [],
   "source": [
    "# Thêm thư mục src vào sys.path để import các module tự định nghĩa\n",
    "# Điều này cần thiết khi chạy notebook từ thư mục notebooks/ hoặc root\n",
    "module_path = os.path.abspath(os.path.join('..')) # Lấy đường dẫn thư mục cha (root)\n",
    "if module_path not in sys.path:\n",
    "    sys.path.append(module_path)\n",
    "\n",
    "from src import utils # Import module utils từ thư mục src\n",
    "\n",
    "# ## Tải ảnh mẫu\n",
    "# Thay 'sample_sign.jpg' bằng tên file ảnh thực tế của bạn trong data/raw/\n",
    "image_filename = 'sample_sign.jpg' \n",
    "image_path = os.path.join('..', 'data', 'raw', image_filename) # Đường dẫn tương đối từ notebook"
   ]
  },
  {
   "cell_type": "code",
   "execution_count": null,
   "id": "c1fe0b87",
   "metadata": {},
   "outputs": [],
   "source": [
    "# Kiểm tra xem file có tồn tại không\n",
    "if not os.path.exists(image_path):\n",
    "    print(f\"Lỗi: Không tìm thấy ảnh tại '{image_path}'.\")\n",
    "    print(\"Vui lòng đảm bảo bạn đã đặt ảnh mẫu vào thư mục 'data/raw/' và đặt đúng tên file.\")\n",
    "else:\n",
    "    # Tải ảnh màu\n",
    "    img_color = utils.load_image(image_path, cv2.IMREAD_COLOR)\n",
    "    # Tải ảnh xám\n",
    "    img_gray = utils.load_image(image_path, cv2.IMREAD_GRAYSCALE)\n",
    "\n",
    "    if img_color is not None and img_gray is not None:\n",
    "        # ## Hiển thị ảnh\n",
    "        utils.display_image(f\"Ảnh Màu Gốc - {image_filename}\", img_color)\n",
    "        utils.display_image(f\"Ảnh Xám Gốc - {image_filename}\", img_gray)\n",
    "\n",
    "        # ## Thông tin cơ bản\n",
    "        print(\"\\n--- Thông tin ảnh màu ---\")\n",
    "        print(f\"Kích thước (Cao, Rộng, Kênh): {img_color.shape}\")\n",
    "        print(f\"Kiểu dữ liệu: {img_color.dtype}\")\n",
    "        print(f\"Giá trị pixel nhỏ nhất: {img_color.min()}\")\n",
    "        print(f\"Giá trị pixel lớn nhất: {img_color.max()}\")\n",
    "\n",
    "        print(\"\\n--- Thông tin ảnh xám ---\")\n",
    "        print(f\"Kích thước (Cao, Rộng): {img_gray.shape}\")\n",
    "        print(f\"Kiểu dữ liệu: {img_gray.dtype}\")\n",
    "        print(f\"Giá trị pixel nhỏ nhất: {img_gray.min()}\")\n",
    "        print(f\"Giá trị pixel lớn nhất: {img_gray.max()}\")\n",
    "\n",
    "        # ## Hiển thị Histogram ảnh xám\n",
    "        plt.figure(figsize=(8, 4))\n",
    "        plt.hist(img_gray.ravel(), bins=256, range=[0, 256])\n",
    "        plt.title('Histogram Ảnh Xám')\n",
    "        plt.xlabel('Mức xám')\n",
    "        plt.ylabel('Số lượng pixel')\n",
    "        plt.xlim([0, 256])\n",
    "        plt.show()\n",
    "    else:\n",
    "        print(\"Không thể tải ảnh thành công.\")"
   ]
  }
 ],
 "metadata": {
  "kernelspec": {
   "display_name": "base",
   "language": "python",
   "name": "python3"
  },
  "language_info": {
   "name": "python",
   "version": "3.12.7"
  }
 },
 "nbformat": 4,
 "nbformat_minor": 5
}
