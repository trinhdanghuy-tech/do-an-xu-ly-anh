{
 "cells": [
  {
   "cell_type": "code",
   "execution_count": null,
   "id": "d671c685",
   "metadata": {},
   "outputs": [],
   "source": [
    "# -*- coding: utf-8 -*-\n",
    "# ---\n",
    "# jupyter:\n",
    "#   jupytext:\n",
    "#     text_representation:\n",
    "#       extension: .py\n",
    "#       format_name: light\n",
    "#       format_version: '1.5'\n",
    "#       jupytext_version: 1.14.0\n",
    "#   kernelspec:\n",
    "#     display_name: Python 3 (ipykernel)\n",
    "#     language: python\n",
    "#     name: python3\n",
    "# ---\n",
    "\n",
    "# # 2. Thử nghiệm Tăng cường Ảnh\n",
    "\n",
    "# Mục tiêu: Áp dụng và so sánh các kỹ thuật tăng cường ảnh khác nhau.\n",
    "# ## Import thư viện\n",
    "import os\n",
    "import sys\n",
    "import cv2"
   ]
  },
  {
   "cell_type": "code",
   "execution_count": null,
   "id": "0f4a97fc",
   "metadata": {},
   "outputs": [],
   "source": [
    "# Thêm thư mục src vào sys.path\n",
    "module_path = os.path.abspath(os.path.join('..'))\n",
    "if module_path not in sys.path:\n",
    "    sys.path.append(module_path)\n",
    "\n",
    "from src import utils\n",
    "from src import enhancement"
   ]
  },
  {
   "cell_type": "code",
   "execution_count": null,
   "id": "1a0d6272",
   "metadata": {},
   "outputs": [],
   "source": [
    "# ## Tải ảnh mẫu\n",
    "image_filename = 'sample_sign.jpg' # Đảm bảo ảnh này tồn tại\n",
    "image_path = os.path.join('..', 'data', 'raw', image_filename) \n",
    "\n",
    "img_original = utils.load_image(image_path, cv2.IMREAD_COLOR)\n",
    "\n",
    "if img_original is not None:\n",
    "    # ## Áp dụng các kỹ thuật tăng cường\n",
    "\n",
    "    # 1. Cân bằng Histogram\n",
    "    img_hist_equalized = enhancement.histogram_equalization(img_original)\n",
    "\n",
    "    # 2. Giãn Độ tương phản\n",
    "    img_contrast_stretched = enhancement.contrast_stretching(img_original)\n",
    "\n",
    "    # 3. Biến đổi hàm mũ (Gamma Correction)\n",
    "    # Gamma < 1 làm sáng ảnh, Gamma > 1 làm tối ảnh\n",
    "    img_gamma_bright = enhancement.power_law_transform(img_original, gamma=0.5) # Làm sáng\n",
    "    img_gamma_dark = enhancement.power_law_transform(img_original, gamma=1.8) # Làm tối\n",
    "\n",
    "    # ## Hiển thị kết quả\n",
    "    utils.display_images(\n",
    "        [\"Ảnh Gốc\", \"Cân bằng Hist\", \"Giãn Tương phản\", \"Gamma (Sáng)\", \"Gamma (Tối)\"],\n",
    "        [img_original, img_hist_equalized, img_contrast_stretched, img_gamma_bright, img_gamma_dark],\n",
    "        figsize=(25, 5) # Điều chỉnh kích thước hiển thị nếu cần\n",
    "    )\n",
    "else:\n",
    "    print(f\"Lỗi: Không thể tải ảnh tại '{image_path}'.\")"
   ]
  }
 ],
 "metadata": {
  "language_info": {
   "name": "python"
  }
 },
 "nbformat": 4,
 "nbformat_minor": 5
}
